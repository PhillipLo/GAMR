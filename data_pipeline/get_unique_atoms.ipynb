{
 "cells": [
  {
   "cell_type": "code",
   "execution_count": 5,
   "metadata": {},
   "outputs": [
    {
     "name": "stdout",
     "output_type": "stream",
     "text": [
      "/home/philliplo125/GAMR/data_pipeline\n"
     ]
    }
   ],
   "source": [
    "cd data_pipeline"
   ]
  },
  {
   "cell_type": "code",
   "execution_count": 14,
   "metadata": {},
   "outputs": [],
   "source": [
    "from rdkit import Chem\n",
    "from tqdm import tqdm"
   ]
  },
  {
   "cell_type": "code",
   "execution_count": 13,
   "metadata": {},
   "outputs": [],
   "source": [
    "# get list of NCI molecules\n",
    "\n",
    "with open(\"strings\", mode = \"r\", encoding='utf-8-sig') as file:\n",
    "  lines = [line.rstrip() for line in file]"
   ]
  },
  {
   "cell_type": "code",
   "execution_count": 19,
   "metadata": {},
   "outputs": [
    {
     "name": "stderr",
     "output_type": "stream",
     "text": [
      "  0%|          | 0/260250 [00:00<?, ?it/s]"
     ]
    },
    {
     "name": "stderr",
     "output_type": "stream",
     "text": [
      "  0%|          | 587/260250 [00:00<01:27, 2960.80it/s][15:43:50] WARNING: not removing hydrogen atom without neighbors\n",
      " 91%|█████████▏| 238012/260250 [00:41<00:04, 4965.79it/s][15:44:31] WARNING: not removing hydrogen atom without neighbors\n",
      " 93%|█████████▎| 242311/260250 [00:42<00:03, 5156.95it/s][15:44:32] WARNING: not removing hydrogen atom without neighbors\n",
      " 94%|█████████▍| 244526/260250 [00:42<00:03, 5080.43it/s][15:44:32] WARNING: not removing hydrogen atom without neighbors\n",
      " 95%|█████████▌| 247610/260250 [00:43<00:02, 4791.27it/s][15:44:33] WARNING: not removing hydrogen atom without neighbors\n",
      "[15:44:33] WARNING: not removing hydrogen atom without neighbors\n",
      " 95%|█████████▌| 248231/260250 [00:43<00:02, 5195.03it/s][15:44:33] WARNING: not removing hydrogen atom without neighbors\n",
      "[15:44:33] WARNING: not removing hydrogen atom without neighbors\n",
      "100%|██████████| 260250/260250 [00:45<00:00, 5673.92it/s]\n"
     ]
    }
   ],
   "source": [
    "unique_atoms = {\"C\"}\n",
    "for smi in tqdm(lines):\n",
    "  m = Chem.MolFromSmiles(smi)\n",
    "  m_atms = {atom.GetSymbol() for atom in m.GetAtoms()}\n",
    "  unique_atoms = unique_atoms | m_atms"
   ]
  },
  {
   "cell_type": "code",
   "execution_count": 20,
   "metadata": {},
   "outputs": [
    {
     "data": {
      "text/plain": [
       "{'Ac',\n",
       " 'Ag',\n",
       " 'Al',\n",
       " 'As',\n",
       " 'Au',\n",
       " 'B',\n",
       " 'Ba',\n",
       " 'Be',\n",
       " 'Bi',\n",
       " 'Br',\n",
       " 'C',\n",
       " 'Ca',\n",
       " 'Cd',\n",
       " 'Ce',\n",
       " 'Cl',\n",
       " 'Co',\n",
       " 'Cr',\n",
       " 'Cs',\n",
       " 'Cu',\n",
       " 'Dy',\n",
       " 'Er',\n",
       " 'Eu',\n",
       " 'F',\n",
       " 'Fe',\n",
       " 'Ga',\n",
       " 'Gd',\n",
       " 'Ge',\n",
       " 'H',\n",
       " 'Hf',\n",
       " 'Hg',\n",
       " 'Ho',\n",
       " 'I',\n",
       " 'In',\n",
       " 'Ir',\n",
       " 'K',\n",
       " 'La',\n",
       " 'Li',\n",
       " 'Lr',\n",
       " 'Lu',\n",
       " 'Mg',\n",
       " 'Mn',\n",
       " 'Mo',\n",
       " 'N',\n",
       " 'Na',\n",
       " 'Nb',\n",
       " 'Nd',\n",
       " 'Ni',\n",
       " 'O',\n",
       " 'Os',\n",
       " 'P',\n",
       " 'Pb',\n",
       " 'Pd',\n",
       " 'Pr',\n",
       " 'Pt',\n",
       " 'Ra',\n",
       " 'Rb',\n",
       " 'Re',\n",
       " 'Rh',\n",
       " 'Ru',\n",
       " 'S',\n",
       " 'Sb',\n",
       " 'Sc',\n",
       " 'Se',\n",
       " 'Si',\n",
       " 'Sm',\n",
       " 'Sn',\n",
       " 'Sr',\n",
       " 'Ta',\n",
       " 'Tb',\n",
       " 'Tc',\n",
       " 'Te',\n",
       " 'Th',\n",
       " 'Ti',\n",
       " 'Tl',\n",
       " 'Tm',\n",
       " 'U',\n",
       " 'V',\n",
       " 'W',\n",
       " 'Y',\n",
       " 'Yb',\n",
       " 'Zn',\n",
       " 'Zr'}"
      ]
     },
     "execution_count": 20,
     "metadata": {},
     "output_type": "execute_result"
    }
   ],
   "source": [
    "unique_atoms"
   ]
  },
  {
   "cell_type": "code",
   "execution_count": 21,
   "metadata": {},
   "outputs": [
    {
     "data": {
      "text/plain": [
       "82"
      ]
     },
     "execution_count": 21,
     "metadata": {},
     "output_type": "execute_result"
    }
   ],
   "source": [
    "elems"
   ]
  },
  {
   "cell_type": "code",
   "execution_count": null,
   "metadata": {},
   "outputs": [],
   "source": []
  }
 ],
 "metadata": {
  "kernelspec": {
   "display_name": "GAMR_environment",
   "language": "python",
   "name": "python3"
  },
  "language_info": {
   "codemirror_mode": {
    "name": "ipython",
    "version": 3
   },
   "file_extension": ".py",
   "mimetype": "text/x-python",
   "name": "python",
   "nbconvert_exporter": "python",
   "pygments_lexer": "ipython3",
   "version": "3.11.7"
  }
 },
 "nbformat": 4,
 "nbformat_minor": 2
}
